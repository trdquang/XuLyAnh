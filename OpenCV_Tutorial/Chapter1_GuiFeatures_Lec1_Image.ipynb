{
 "cells": [
  {
   "cell_type": "markdown",
   "id": "5f90cc84",
   "metadata": {},
   "source": [
    "# Gui Features \n"
   ]
  },
  {
   "cell_type": "markdown",
   "id": "02e1b7fd",
   "metadata": {},
   "source": [
    "# Thao tác với ảnh (image)"
   ]
  },
  {
   "cell_type": "markdown",
   "id": "20daae65",
   "metadata": {},
   "source": [
    "Tìm hiểu các hàm sau:\n",
    "\n",
    "    - Đọc ảnh từ file (cv2.imread())\n",
    "    - Hiển thị hình ảnh (cv2.imshow())\n",
    "    - Ghi ảnh (lưu ảnh) (cv2.imwrite())"
   ]
  },
  {
   "cell_type": "markdown",
   "id": "2c423169",
   "metadata": {},
   "source": [
    "## cv2.imread()\n"
   ]
  },
  {
   "cell_type": "markdown",
   "id": "ab93ec74",
   "metadata": {},
   "source": [
    "cv2.imread(\tfilename[, flags]\t) "
   ]
  },
  {
   "cell_type": "markdown",
   "id": "6e7da055",
   "metadata": {},
   "source": [
    "https://docs.opencv.org/4.x/d4/da8/group__imgcodecs.html#ga288b8b3da0892bd651fce07b3bbd3a56"
   ]
  },
  {
   "cell_type": "markdown",
   "id": "3f46bbd7",
   "metadata": {},
   "source": [
    "### tham số"
   ]
  },
  {
   "cell_type": "markdown",
   "id": "ae7f3485",
   "metadata": {},
   "source": [
    "* Giải thích tham số:\n",
    "    * file name: tên đường dẫn ảnh\n",
    "    * flags: chế độ đọc ảnh\n"
   ]
  },
  {
   "cell_type": "markdown",
   "id": "e66805ff",
   "metadata": {},
   "source": [
    "* flag thường nhận các giá trị [-1, 0, 1]\n",
    "    * -1: IMREAD_UNCHANGED (ảnh sẽ được đặt nguyên trạng (with alpha channel, otherwise it gets cropped))\n",
    "    * 0: IMREAD_GRAYSCALE: ảnh xám \n",
    "    * 1: IMREAD_COLOR: ảnh màu BGR"
   ]
  },
  {
   "cell_type": "markdown",
   "id": "0e367671",
   "metadata": {},
   "source": [
    "### chức năng"
   ]
  },
  {
   "cell_type": "markdown",
   "id": "88b3678b",
   "metadata": {},
   "source": [
    "* input: đường dẫn ảnh\n",
    "* output: ma trận ảnh \n"
   ]
  },
  {
   "cell_type": "markdown",
   "id": "d3b0a16e",
   "metadata": {},
   "source": [
    "* Hàm này có chức năng tải hình ảnh từ một tập tin \n",
    "* Hàm đọc 1 hình ảnh và trả về nó\n",
    "* Nếu không thể đọc ảnh, hàm sẽ trả về 1 ma trận NULL"
   ]
  },
  {
   "cell_type": "markdown",
   "id": "e30863e6",
   "metadata": {},
   "source": [
    "* Lưu ý:\n",
    "    - Trong trường hợp ảnh màu, ảnh được mã hóa sẽ được lưu với dạng màu B G R\n",
    "    - Nếu sử dụng tham số IMREAD_GRAYSCALE(trong flags), grayscale conversion will be used, nếu có.\\\n",
    "        Do đó, kết quả có thể khác với hàm cvtColor()\n",
    "    - Ảnh được đọc sẽ đọc theo thứ tự BGR"
   ]
  },
  {
   "cell_type": "markdown",
   "id": "0eed70ab",
   "metadata": {},
   "source": [
    "### ví dụ"
   ]
  },
  {
   "cell_type": "markdown",
   "id": "d8df602e",
   "metadata": {},
   "source": [
    "* Giả sử có 1 file tại ổ đĩa E là E:/image/lena"
   ]
  },
  {
   "cell_type": "markdown",
   "id": "7ed7b2eb",
   "metadata": {},
   "source": [
    "#### đọc file lỗi"
   ]
  },
  {
   "cell_type": "code",
   "execution_count": 1,
   "id": "8319015d",
   "metadata": {},
   "outputs": [
    {
     "name": "stdout",
     "output_type": "stream",
     "text": [
      "None\n"
     ]
    }
   ],
   "source": [
    "import mahotas\n",
    "import cv2\n",
    "\n",
    "img = cv2.imread('E:/image/lenaF')\n",
    "print(img)"
   ]
  },
  {
   "cell_type": "code",
   "execution_count": 2,
   "id": "78c9d391",
   "metadata": {},
   "outputs": [],
   "source": [
    "# Do tên file không tồn tại, nên giá trị trả ra sẽ là ma trận None"
   ]
  },
  {
   "cell_type": "markdown",
   "id": "7b7164f9",
   "metadata": {},
   "source": [
    "#### đọc thành công"
   ]
  },
  {
   "cell_type": "code",
   "execution_count": 5,
   "id": "babee501",
   "metadata": {},
   "outputs": [
    {
     "name": "stdout",
     "output_type": "stream",
     "text": [
      "[[[120 133 231]\n",
      "  [120 133 231]\n",
      "  [119 132 230]\n",
      "  ...\n",
      "  [107 124 217]\n",
      "  [128 143 236]\n",
      "  [115 114 217]]\n",
      "\n",
      " [[119 132 230]\n",
      "  [119 132 230]\n",
      "  [119 132 230]\n",
      "  ...\n",
      "  [130 143 235]\n",
      "  [151 159 252]\n",
      "  [123 120 219]]\n",
      "\n",
      " [[119 132 230]\n",
      "  [118 131 229]\n",
      "  [118 131 229]\n",
      "  ...\n",
      "  [111 115 204]\n",
      "  [113 111 201]\n",
      "  [ 74  61 153]]\n",
      "\n",
      " ...\n",
      "\n",
      " [[ 74  34  92]\n",
      "  [ 65  27  87]\n",
      "  [ 59  22  84]\n",
      "  ...\n",
      "  [ 74  51 126]\n",
      "  [ 79  58 137]\n",
      "  [ 79  62 149]]\n",
      "\n",
      " [[ 74  34  92]\n",
      "  [ 64  26  86]\n",
      "  [ 57  20  82]\n",
      "  ...\n",
      "  [ 79  57 135]\n",
      "  [ 86  69 150]\n",
      "  [ 81  66 157]]\n",
      "\n",
      " [[ 56  18  76]\n",
      "  [ 74  38  98]\n",
      "  [ 61  25  91]\n",
      "  ...\n",
      "  [ 89  70 151]\n",
      "  [ 92  75 162]\n",
      "  [ 90  76 172]]]\n"
     ]
    }
   ],
   "source": [
    "import mahotas\n",
    "import cv2\n",
    "\n",
    "img = cv2.imread('E:/image/lena.jpg')\n",
    "print(img)"
   ]
  },
  {
   "cell_type": "markdown",
   "id": "afbdc7e9",
   "metadata": {},
   "source": [
    "## cv2.imshow()"
   ]
  },
  {
   "cell_type": "markdown",
   "id": "604288d0",
   "metadata": {},
   "source": [
    "cv.imshow(\twinname, mat\t) ->\tNone\n"
   ]
  },
  {
   "cell_type": "markdown",
   "id": "bcf6c9f1",
   "metadata": {},
   "source": [
    "### tham số"
   ]
  },
  {
   "cell_type": "markdown",
   "id": "a5be9760",
   "metadata": {},
   "source": [
    "* winname: tên ảnh (lúc hiển thị)\n",
    "* mat: ảnh hiển thị "
   ]
  },
  {
   "cell_type": "markdown",
   "id": "60eccd4b",
   "metadata": {},
   "source": [
    "### chức năng"
   ]
  },
  {
   "cell_type": "markdown",
   "id": "1245da0a",
   "metadata": {},
   "source": [
    "- hiển thị 1 ảnh trong cửa sổ chỉ định \n",
    "- nếu kết hợp với WINDOW_AUTOSIZE flag, ảnh sẽ được hiển thị với kích thước ban đầu\\\n",
    "    tuy nhiên, nó vẫn bị giới hạn bởi độ phân giải màn hình"
   ]
  },
  {
   "cell_type": "markdown",
   "id": "fb2b875f",
   "metadata": {},
   "source": [
    "### lưu ý"
   ]
  },
  {
   "cell_type": "markdown",
   "id": "87f9fedf",
   "metadata": {},
   "source": [
    "- hàm này cần kết hợp với hàm waitKey() hoặc pollKey()\\\n",
    "    để quản lý việc hiển thị lên màn hình\n",
    "- nếu không hình ảnh, có thể không được hiển thị và có \\\n",
    "    thể gây ra lỗi \n",
    "- ví dụ waitKey(0) sẽ hiển thị ảnh cho đến khi ấn phím \\\n",
    "    bất kì(thích hợp để hiển thị ảnh)\n",
    "- waitKey(25) sẽ hiển thị 1 khung hình và đợi khoảng \\\n",
    "    25ms cho một lần nhấn phím (thích hợp để hiển thị video)\n",
    "- để xóa cửa sổ, sử dụng destroyWindow"
   ]
  },
  {
   "cell_type": "markdown",
   "id": "08b30987",
   "metadata": {},
   "source": [
    "### ví dụ "
   ]
  },
  {
   "cell_type": "markdown",
   "id": "ad9ebdaa",
   "metadata": {},
   "source": [
    "#### hiển thị ảnh nguyên mẫu"
   ]
  },
  {
   "cell_type": "code",
   "execution_count": 7,
   "id": "ec843d24",
   "metadata": {},
   "outputs": [],
   "source": [
    "import cv2\n",
    "\n",
    "# img = cv2.imread('E:/image/lena.jpg', -1)\n",
    "img = cv2.imread('E:/image/lena.jpg', cv2.IMREAD_UNCHANGED)\n",
    "cv2.imshow('lena', img)\n",
    "\n",
    "cv2.waitKey(0)\n",
    "cv2.destroyWindow('lena')\n",
    "\n",
    "\n"
   ]
  },
  {
   "cell_type": "markdown",
   "id": "4bef61d6",
   "metadata": {},
   "source": [
    "#### hiển thị ảnh sang dạng xám"
   ]
  },
  {
   "cell_type": "code",
   "execution_count": 11,
   "id": "0afec132",
   "metadata": {},
   "outputs": [],
   "source": [
    "import cv2\n",
    "\n",
    "# img_gray = cv2.imread('E:/image/lena.jpg', 0)\n",
    "img_gray = cv2.imread('E:/image/lena.jpg', cv2.IMREAD_GRAYSCALE)\n",
    "cv2.imshow('img_gray', img_gray)\n",
    "\n",
    "cv2.waitKey(0)\n",
    "cv2.destroyWindow('img_gray')"
   ]
  },
  {
   "cell_type": "markdown",
   "id": "f39c7ed4",
   "metadata": {},
   "source": [
    "#### hiển thị ảnh 3 kênh màu"
   ]
  },
  {
   "cell_type": "code",
   "execution_count": 17,
   "id": "7e769a7b",
   "metadata": {},
   "outputs": [],
   "source": [
    "import cv2\n",
    "\n",
    "# img_3 = cv2.imread('E:/image/lena.jpg', 1)\n",
    "img_3 = cv2.imread('E:/image/lena.jpg', cv2.IMREAD_COLOR)\n",
    "\n",
    "cv2.imshow('image_3', img_3)\n",
    "\n",
    "cv2.waitKey(0)\n",
    "cv2.destroyWindow('image_3')\n"
   ]
  },
  {
   "cell_type": "markdown",
   "id": "7de3305c",
   "metadata": {},
   "source": [
    "## cv2.imwrite()"
   ]
  },
  {
   "cell_type": "markdown",
   "id": "8d8fea4d",
   "metadata": {},
   "source": [
    "cv.imwrite(\tfilename, img[, params]\t) ->\tretval\n"
   ]
  },
  {
   "cell_type": "markdown",
   "id": "75ac61fa",
   "metadata": {},
   "source": [
    "### tham số"
   ]
  },
  {
   "cell_type": "markdown",
   "id": "2aa52e06",
   "metadata": {},
   "source": [
    "- filename: đường dẫn đến nơi lưu ảnh\n",
    "- img: ảnh cần lưu \n",
    "- params: tham số định dạng ảnh \n",
    "    * Một số định dạng phổ biến \n",
    "    * IMREAD_UNCHANGED = -1,\n",
    "    * IMREAD_GRAYSCALE = 0,\n",
    "    * IMREAD_COLOR = 1,"
   ]
  },
  {
   "cell_type": "markdown",
   "id": "b284470c",
   "metadata": {},
   "source": [
    "### chức năng"
   ]
  },
  {
   "cell_type": "markdown",
   "id": "5797427a",
   "metadata": {},
   "source": [
    "- lưu 1 bức hình vào trong file "
   ]
  },
  {
   "cell_type": "markdown",
   "id": "8eb56a21",
   "metadata": {},
   "source": [
    "### lưu ý"
   ]
  },
  {
   "cell_type": "markdown",
   "id": "32d82518",
   "metadata": {},
   "source": [
    "- ảnh được lưu, sẽ lưu dưới dạng BGR\n",
    "- có thể sử dụng các hàm sau để chỉnh ảnh trước khi lưu lại\n",
    "    - cv2.convertTo ()\n",
    "    - cv2.cvtColor ()\n",
    "    - FileStorage //lưu file dưới dạng XML hoặc YAML"
   ]
  },
  {
   "cell_type": "markdown",
   "id": "20cb71f8",
   "metadata": {},
   "source": [
    "### ví dụ "
   ]
  },
  {
   "cell_type": "code",
   "execution_count": 34,
   "id": "2d2e3990",
   "metadata": {},
   "outputs": [
    {
     "data": {
      "text/plain": [
       "True"
      ]
     },
     "execution_count": 34,
     "metadata": {},
     "output_type": "execute_result"
    }
   ],
   "source": [
    "# Giả sử đọc file ảnh lena từ ổ E lên, rồi lưu lại trong ổ E với tên lena_save_1\n",
    "import cv2\n",
    "import mahotas\n",
    "\n",
    "img = cv2.imread('E:/image/lena.jpg')\n",
    "\n",
    "k = cv.waitKey(0)\n",
    "\n",
    "cv2.imwrite(\"E:/image/lena_save_1.jpg\", img)\n",
    "# if k == ord(\"s\"):\n",
    "#     cv2.imwrite(\"E:/image/lena_save_1.jpg\", img)\n",
    "\n",
    "    \n"
   ]
  },
  {
   "cell_type": "code",
   "execution_count": null,
   "id": "d71b8945",
   "metadata": {},
   "outputs": [],
   "source": [
    " "
   ]
  },
  {
   "cell_type": "code",
   "execution_count": null,
   "id": "43aed2cc",
   "metadata": {},
   "outputs": [],
   "source": []
  }
 ],
 "metadata": {
  "kernelspec": {
   "display_name": "Python 3 (ipykernel)",
   "language": "python",
   "name": "python3"
  },
  "language_info": {
   "codemirror_mode": {
    "name": "ipython",
    "version": 3
   },
   "file_extension": ".py",
   "mimetype": "text/x-python",
   "name": "python",
   "nbconvert_exporter": "python",
   "pygments_lexer": "ipython3",
   "version": "3.9.16"
  },
  "toc": {
   "base_numbering": 1,
   "nav_menu": {},
   "number_sections": true,
   "sideBar": true,
   "skip_h1_title": false,
   "title_cell": "Table of Contents",
   "title_sidebar": "Contents",
   "toc_cell": false,
   "toc_position": {
    "height": "calc(100% - 180px)",
    "left": "10px",
    "top": "150px",
    "width": "281.225px"
   },
   "toc_section_display": true,
   "toc_window_display": true
  }
 },
 "nbformat": 4,
 "nbformat_minor": 5
}
